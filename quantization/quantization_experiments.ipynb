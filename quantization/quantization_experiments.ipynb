{
 "cells": [
  {
   "attachments": {},
   "cell_type": "markdown",
   "metadata": {},
   "source": [
    "# Experiments on embeddings quantization and SVD"
   ]
  },
  {
   "attachments": {},
   "cell_type": "markdown",
   "metadata": {},
   "source": [
    "## Configuration & helpers"
   ]
  },
  {
   "cell_type": "code",
   "execution_count": null,
   "metadata": {},
   "outputs": [],
   "source": [
    "import boto3\n",
    "import pandas as pd\n",
    "import numpy as np\n",
    "\n",
    "boto_session = boto3.Session(region_name=\"us-east-1\", profile_name=\"<INSERT YOUR AWS CONFIG PROFILE>\"))\n",
    "bruntime = boto_session.client('bedrock-runtime')\n"
   ]
  },
  {
   "cell_type": "code",
   "execution_count": null,
   "metadata": {},
   "outputs": [],
   "source": [
    "def form_analysis_df(df_list, measurement):\n",
    "\n",
    "    final_df = pd.concat(df_list)\n",
    "    maxperf = {model_id:final_df.query(f\"model_id=='{model_id}' and type=='classic'\")[measurement].values[0] for model_id in final_df.model_id.unique()}\n",
    "    classicsize = {model_id:final_df.query(f\"model_id=='{model_id}' and type=='classic'\")['size_in_bytes'].values[0] for model_id in final_df.model_id.unique()}\n",
    "    final_df['log_size']=np.log(final_df.size_in_bytes)\n",
    "    final_df['size_multiplier']=final_df.apply(lambda x: classicsize[x['model_id']] / x['size_in_bytes'], axis = 1)\n",
    "    final_df['performance_retention']=final_df.apply(lambda x: round(100*x[measurement] / maxperf[x['model_id']], 2), axis = 1)\n",
    "    return final_df"
   ]
  },
  {
   "attachments": {},
   "cell_type": "markdown",
   "metadata": {},
   "source": [
    "## STS-B"
   ]
  },
  {
   "cell_type": "code",
   "execution_count": null,
   "metadata": {},
   "outputs": [],
   "source": [
    "from experiments import STSLabAssistant\n",
    "sts_titan_operator = STSLabAssistant.instantiate_titan_experiments(bruntime)\n",
    "titan_df=sts_titan_operator.run()\n",
    "\n",
    "sts_cohere_operator = STSLabAssistant.instantiate_cohere_experiments(bruntime)\n",
    "cohere_df=sts_cohere_operator.run()"
   ]
  },
  {
   "cell_type": "code",
   "execution_count": null,
   "metadata": {},
   "outputs": [],
   "source": [
    "\n",
    "final_sts_df=form_analysis_df([titan_df, cohere_df], measurement=\"spearman\")"
   ]
  },
  {
   "cell_type": "code",
   "execution_count": null,
   "metadata": {},
   "outputs": [],
   "source": [
    "import plotly.express as px\n",
    "\n",
    "fig = px.bar(final_sts_df.query(\"type!='classic'\"), x = \"type\", y = \"performance_retention\", color = \"model_id\", barmode=\"group\", \n",
    "       range_y=[final_sts_df['performance_retention'].min()*0.99, final_sts_df['performance_retention'].max()*1.01],\n",
    "       category_orders={\"type\":[\"binary\" \"rotated-binary\", \"ternary\", \"rotated-ternary\", \"quaternary\", \"rotated-quaternary\", \"scalar\", \"rotated-scalar\"]}, \n",
    "       labels = {\"performance_retention\":\"Performance retention\", \"type\":\"Method\", \"model_id\":\"Model\"},\n",
    "       title = \"Performance retention - STSB\")\n",
    "\n",
    "fig.add_hline(y=100)\n",
    "\n",
    "fig.show()"
   ]
  },
  {
   "attachments": {},
   "cell_type": "markdown",
   "metadata": {},
   "source": [
    "## Banking77"
   ]
  },
  {
   "cell_type": "code",
   "execution_count": null,
   "metadata": {},
   "outputs": [],
   "source": [
    "from experiments import Banking77LabAssistant\n",
    "banking_operator = Banking77LabAssistant.instantiate_titan_experiments(bruntime)\n",
    "titan_banking_df=banking_operator.run()\n",
    "\n",
    "cohere_banking_operator = Banking77LabAssistant.instantiate_cohere_experiments(bruntime)\n",
    "cohere_banking_df=cohere_banking_operator.run()"
   ]
  },
  {
   "cell_type": "code",
   "execution_count": null,
   "metadata": {},
   "outputs": [],
   "source": [
    "final_banking_df = form_analysis_df([titan_banking_df, cohere_banking_df], measurement=\"accuracy\")"
   ]
  },
  {
   "cell_type": "code",
   "execution_count": null,
   "metadata": {},
   "outputs": [],
   "source": [
    "import plotly.express as px\n",
    "\n",
    "fig = px.bar(final_banking_df.query(\"type!='classic'\"), x = \"type\", y = \"performance_retention\", color = \"model_id\", barmode=\"group\", \n",
    "       range_y=[final_banking_df['performance_retention'].min()*0.99,final_banking_df['performance_retention'].max()*1.01],\n",
    "       category_orders={\"type\":[\"binary\", \"rotated-binary\", \"ternary\",\"rotated-ternary\",  \"scalar\",\"rotated-scalar\" ]}, \n",
    "       labels = {\"performance_retention\":\"Performance retention\", \"type\":\"Method\", \"model_id\":\"Model\"})\n",
    "\n",
    "fig.add_hline(y=100)\n",
    "\n",
    "fig.show()"
   ]
  },
  {
   "attachments": {},
   "cell_type": "markdown",
   "metadata": {},
   "source": [
    "## Combining both tasks"
   ]
  },
  {
   "cell_type": "code",
   "execution_count": null,
   "metadata": {},
   "outputs": [],
   "source": [
    "df = pd.read_pickle(\"final_analysis.pickle\")"
   ]
  },
  {
   "cell_type": "code",
   "execution_count": null,
   "metadata": {},
   "outputs": [],
   "source": [
    "tmp = final_sts_df.rename({\"spearman\":\"performance\"}, axis = 1)\n",
    "tmp['task']=\"STS-B\"\n",
    "\n",
    "tmp2 = final_banking_df.rename({\"accuracy\":\"performance\"}, axis = 1)\n",
    "tmp2['task']=\"Banking77\"\n",
    "\n",
    "df = pd.concat([tmp, tmp2])"
   ]
  },
  {
   "cell_type": "code",
   "execution_count": null,
   "metadata": {},
   "outputs": [],
   "source": [
    "df['quantization']=df.type.apply(lambda x:True if x!=\"classic\" else False)\n",
    "df[\"rotation\"]=df.type.apply(lambda x:True if \"rotated\" in x else False)"
   ]
  },
  {
   "cell_type": "code",
   "execution_count": null,
   "metadata": {},
   "outputs": [],
   "source": [
    "import plotly.express as px\n",
    "\n",
    "px.scatter(df, x = \"model_id\", y = \"performance_retention\", size = \"size_multiplier\", color = \"type\", symbol = \"task\")"
   ]
  },
  {
   "cell_type": "code",
   "execution_count": null,
   "metadata": {},
   "outputs": [],
   "source": [
    "import plotly.express as px\n",
    "\n",
    "px.scatter(df, x = \"model_id\", y = \"performance_retention\", size = \"size_multiplier\", color = \"rotation\", \n",
    "           title = \"Performance retention induced by rotation\")"
   ]
  },
  {
   "cell_type": "code",
   "execution_count": null,
   "metadata": {},
   "outputs": [],
   "source": [
    "px.scatter(df, x = \"size_multiplier\", y = \"performance_retention\", color = \"task\")"
   ]
  },
  {
   "cell_type": "code",
   "execution_count": null,
   "metadata": {},
   "outputs": [],
   "source": [
    "import plotly.express as px\n",
    "\n",
    "fig = px.bar(df.query(\"type!='classic'\"), x = \"type\", y = \"performance_retention\", color = \"model_id\", barmode=\"group\", \n",
    "       range_y=[df['performance_retention'].min()*0.99, df['performance_retention'].max()*1.01],\n",
    "       category_orders={\"type\":[\"binary\" \"rotated-binary\", \"ternary\", \"rotated-ternary\", \"scalar\", \"rotated-scalar\"]}, \n",
    "       labels = {\"performance_retention\":\"Performance retention\", \"type\":\"Method\", \"model_id\":\"Model\"},\n",
    "       title = \"Performance retention\", facet_col= \"task\")\n",
    "\n",
    "fig.add_hline(y=100)\n",
    "\n",
    "fig.show()"
   ]
  },
  {
   "cell_type": "code",
   "execution_count": null,
   "metadata": {},
   "outputs": [],
   "source": [
    "df"
   ]
  },
  {
   "cell_type": "code",
   "execution_count": null,
   "metadata": {},
   "outputs": [],
   "source": [
    "grouped = df.groupby(['type']).agg({\"size_multiplier\":np.mean,\"performance_retention\":np.mean}).reset_index()\n",
    "print(grouped.sort_values(by=\"performance_retention\", ascending=False).to_markdown(index = False))"
   ]
  },
  {
   "cell_type": "code",
   "execution_count": null,
   "metadata": {},
   "outputs": [],
   "source": [
    "display_df = df.drop([\"time\", \"log_size\"], axis = 1)[[ \"task\", \"model_id\", \"type\", \"dimension\", \"size_multiplier\", \"performance_retention\"]]\n",
    "\n",
    "print(display_df.sort_values(by=\"performance_retention\", ascending = False).head(10).to_markdown(index = False))\n",
    "bb"
   ]
  },
  {
   "cell_type": "code",
   "execution_count": null,
   "metadata": {},
   "outputs": [],
   "source": [
    "print(display_df.sort_values(by=\"performance_retention\", ascending = True).head(10).to_markdown(index = False))\n"
   ]
  },
  {
   "cell_type": "code",
   "execution_count": null,
   "metadata": {},
   "outputs": [],
   "source": [
    "df.to_pickle(\"final_analysis.pickle\")"
   ]
  },
  {
   "cell_type": "code",
   "execution_count": null,
   "metadata": {},
   "outputs": [],
   "source": [
    "import plotly.express as px\n",
    "\n",
    "fig = px.bar(df.query(\"type=='binary' | type=='scalar'\"), x = \"type\", y = \"performance_retention\", color = \"model_id\", barmode=\"group\", \n",
    "             facet_col = \"task\",\n",
    "             title = \"Performance retention on STS-B and Banking77 tasks\",\n",
    "       range_y=[df['performance_retention'].min()*0.99,df['performance_retention'].max()*1.01],\n",
    "       category_orders={\"type\":[\"binary\",  \"scalar\" ]}, \n",
    "       labels = {\"performance_retention\":\"Performance retention\", \"type\":\"Method\", \"model_id\":\"Model\"})\n",
    "\n",
    "fig.add_hline(y=100)\n",
    "\n",
    "fig.show()"
   ]
  },
  {
   "cell_type": "code",
   "execution_count": null,
   "metadata": {},
   "outputs": [],
   "source": [
    "import plotly.express as px\n",
    "\n",
    "fig = px.bar(df.query(\"type=='binary' |type=='ternary' |type=='scalar' \"), \n",
    "             x = \"type\", y = \"performance_retention\", color = \"model_id\", barmode=\"group\", \n",
    "       range_y=[df['performance_retention'].min()*0.99, df['performance_retention'].max()*1.01],\n",
    "       category_orders={\"type\":[\"binary\" \"ternary\",  \"scalar\"]}, \n",
    "       labels = {\"performance_retention\":\"Performance retention\", \"type\":\"Method\", \"model_id\":\"Model\"},\n",
    "                    facet_col = \"task\",\n",
    "             title = \"Performance retention on STS-B and Banking77 tasks: ternary, binary & scalar\")\n",
    "\n",
    "fig.add_hline(y=100)\n",
    "\n",
    "fig.show()"
   ]
  },
  {
   "cell_type": "code",
   "execution_count": null,
   "metadata": {},
   "outputs": [],
   "source": [
    "\n",
    "retention_interval = { v['size_multiplier']:v['performance_retention'] for i,v in df.groupby('size_multiplier').agg({\"performance_retention\":lambda x: np.max(x)- np.min(x)}).reset_index().iterrows()}\n",
    "retention_interval"
   ]
  },
  {
   "cell_type": "code",
   "execution_count": null,
   "metadata": {},
   "outputs": [],
   "source": [
    "df[\"e\"] = df.apply(lambda x: retention_interval[x[\"size_multiplier\"]], axis = 1)"
   ]
  },
  {
   "cell_type": "code",
   "execution_count": null,
   "metadata": {},
   "outputs": [],
   "source": [
    "#grouped = df.query(\"type=='classic' | type=='binary' |type=='ternary' |type=='scalar' \").groupby([\"model_id\", \"type\"]).agg({\"performance_retention\":np.mean, \"size_multiplier\":np.mean})\n",
    "#grouped=grouped.reset_index()\n",
    "\n",
    "\n",
    "import plotly.express as px\n",
    "\n",
    "error_y=dict(type='percent', value=retention_interval.values(),visible=True)\n",
    "\n",
    "fig = px.scatter(df, x = \"size_multiplier\", y = \"performance_retention\", \n",
    "                 color = \"type\", trendline=\"ols\", trendline_scope=\"overall\",\n",
    "                 trendline_options=dict(log_x=True),\n",
    "                 labels = {\"performance_retention\":\"Performance retention\", \"size_multiplier\":\"Size multiplier\", \"model_id\":\"Model\"},\n",
    "                 title = \"The trade-off: performance retention vs. size multiplier (with trend)\",\n",
    "                 facet_col=\"task\")\n",
    "#                 ,error_y = \"e\")\n",
    "\n",
    "\n",
    "fig.show()\n"
   ]
  },
  {
   "cell_type": "code",
   "execution_count": null,
   "metadata": {},
   "outputs": [],
   "source": [
    "import plotly.express as px\n",
    "\n",
    "fig = px.scatter(df.query(\"type=='binary' |type=='ternary' |type=='scalar' \"), \n",
    "             x = \"size_multiplier\", y = \"performance_retention\", color = \"type\",\n",
    "       range_y=[df['performance_retention'].min()*0.99, df['performance_retention'].max()*1.01],\n",
    "       category_orders={\"type\":[\"binary\" \"ternary\",  \"scalar\"]}, \n",
    "       labels = {\"performance_retention\":\"Performance retention\", \"type\":\"Method\", \"model_id\":\"Model\"},\n",
    "                    facet_col = \"task\",\n",
    "             title = \"Performance retention on STS-B and Banking77 tasks: ternary, binary & scalar\")\n",
    "\n",
    "\n",
    "fig.show()"
   ]
  },
  {
   "attachments": {},
   "cell_type": "markdown",
   "metadata": {},
   "source": [
    "Is rotation beneficial ?"
   ]
  },
  {
   "cell_type": "code",
   "execution_count": null,
   "metadata": {},
   "outputs": [],
   "source": [
    "quantized_df = df.query(\"quantization==True\").query(\"rotation==False\")[[\"task\", \"model_id\", \"performance_retention\"]]\n",
    "quantized_rotated_df =df.query(\"quantization==True\").query(\"rotation==True\")[[\"task\",\"model_id\", \"performance_retention\"]].rename({\"performance_retention\":\"performance_retention_rotated\"}, axis = 1)\n",
    "benchmark_df= quantized_df.merge(quantized_rotated_df, on = [\"task\",\"model_id\"])\n",
    "mask = benchmark_df['performance_retention_rotated'].values> benchmark_df['performance_retention'].values\n",
    "\n",
    "proportion_higher = np.mean(mask)\n",
    "average_improvement = np.mean(benchmark_df['performance_retention_rotated'][mask] - benchmark_df['performance_retention'][mask])\n",
    "\n",
    "average_decrease = np.mean(benchmark_df['performance_retention_rotated'][~mask] - benchmark_df['performance_retention'][~mask])\n",
    "\n",
    "proportion_higher, average_improvement, average_decrease\n"
   ]
  },
  {
   "cell_type": "code",
   "execution_count": null,
   "metadata": {},
   "outputs": [],
   "source": []
  },
  {
   "attachments": {},
   "cell_type": "markdown",
   "metadata": {},
   "source": [
    "## SVD decomp"
   ]
  },
  {
   "attachments": {},
   "cell_type": "markdown",
   "metadata": {},
   "source": [
    "### Collecting data "
   ]
  },
  {
   "attachments": {},
   "cell_type": "markdown",
   "metadata": {},
   "source": [
    "#### With titan Embed Text v1"
   ]
  },
  {
   "cell_type": "code",
   "execution_count": null,
   "metadata": {},
   "outputs": [],
   "source": [
    "model_id = \"amazon.titan-embed-text-v1\"\n",
    "Xbanking = banking_operator.matrixes[model_id].astype(np.float32)\n",
    "Xsts =  sts_titan_operator.matrixes[model_id].astype(np.float32)\n",
    "X=np.concatenate([Xbanking, Xsts])\n",
    "X.shape"
   ]
  },
  {
   "attachments": {},
   "cell_type": "markdown",
   "metadata": {},
   "source": [
    "#### Or With Cohere Embed v3"
   ]
  },
  {
   "cell_type": "code",
   "execution_count": null,
   "metadata": {},
   "outputs": [],
   "source": [
    "model_id = \"cohere.embed-english-v3\"\n",
    "Xbanking = cohere_banking_operator.matrixes[model_id].astype(np.float32)\n",
    "Xsts =  sts_cohere_operator.matrixes[model_id].astype(np.float32)\n",
    "X=np.concatenate([Xbanking, Xsts])\n",
    "X.shape"
   ]
  },
  {
   "cell_type": "code",
   "execution_count": null,
   "metadata": {},
   "outputs": [],
   "source": []
  },
  {
   "attachments": {},
   "cell_type": "markdown",
   "metadata": {},
   "source": [
    "Instead of seeing the size reduction vs. accuracy, using unsigned integers was useful, now, in order to understand the decay rate, we value symetry. Therefore, transformations will be using _signed_ integers."
   ]
  },
  {
   "cell_type": "code",
   "execution_count": null,
   "metadata": {},
   "outputs": [],
   "source": [
    "\n",
    "#Quantile quantization\n",
    "X33, X66 = np.quantile(X,1/3 ), np.quantile(X,2/3)\n",
    "ternary = [ np.array([2 if e>X66 else (1 if e>X33 else 0) for e in x]).astype(np.uint8) for x in X  ]\n",
    "binary = [np.array([1 if e>0 else 0  for e in x]).astype(np.uint8) for x in X]\n",
    "\n",
    "Xmin, Xmax = X.min(), X.max()\n",
    "range = (Xmax - Xmin) / 255\n",
    "\n",
    "def scalar_quantize(x):\n",
    "    scaled = (x - Xmin) / range\n",
    "    return scaled.astype(np.uint8)\n",
    "\n",
    "scalar = [scalar_quantize(x) for x in X]\n"
   ]
  },
  {
   "attachments": {},
   "cell_type": "markdown",
   "metadata": {},
   "source": [
    "## Test on SVD rotations"
   ]
  },
  {
   "cell_type": "code",
   "execution_count": null,
   "metadata": {},
   "outputs": [],
   "source": [
    "U, S, Vh = np.linalg.svd(X, full_matrices=False)\n",
    "Ub, Sb, Vhb = np.linalg.svd(binary, full_matrices=False)\n",
    "Ut, St, Vht = np.linalg.svd(ternary, full_matrices=False)\n",
    "Us, Ss, Vhs = np.linalg.svd(scalar, full_matrices=False)\n"
   ]
  },
  {
   "cell_type": "code",
   "execution_count": null,
   "metadata": {},
   "outputs": [],
   "source": [
    "def get_decay_rate(S, max_dim=1024):\n",
    "    Snorm = np.sort(S)[::-1]\n",
    "    Snorm = Snorm / Snorm[0]  \n",
    "    return Snorm[:max_dim]\n",
    "\n"
   ]
  },
  {
   "cell_type": "code",
   "execution_count": null,
   "metadata": {},
   "outputs": [],
   "source": [
    "import matplotlib.pyplot as plt\n",
    "\n",
    "plt.plot(get_decay_rate(S, max_dim=30), label = \"classic\")\n",
    "plt.plot(get_decay_rate(Ss, max_dim=30), label = \"scalar\")\n",
    "plt.plot(get_decay_rate(St, max_dim=30), label = \"ternary\")\n",
    "plt.plot(get_decay_rate(Sb, max_dim=30), label = \"binary\")\n",
    "\n",
    "plt.legend()\n",
    "plt.title(\"Decay rate of singular values \\n(Extracted from test set STS B+Banking77 Cohere Embed v3)\")\n",
    "plt.savefig(\"stsb-decayrate-cohere.png\")"
   ]
  },
  {
   "cell_type": "code",
   "execution_count": null,
   "metadata": {},
   "outputs": [],
   "source": [
    "np.linalg.norm(U - Ub, ord = \"fro\"), np.linalg.norm(U - Ut, ord = \"fro\"), np.linalg.norm(U - Us, ord = \"fro\")"
   ]
  },
  {
   "cell_type": "code",
   "execution_count": null,
   "metadata": {},
   "outputs": [],
   "source": [
    "np.linalg.norm(Vh - Vhb, ord = \"fro\"),  np.linalg.norm(Vh - Vht, ord = \"fro\"), np.linalg.norm(Vh - Vhs, ord = \"fro\")"
   ]
  },
  {
   "cell_type": "code",
   "execution_count": null,
   "metadata": {},
   "outputs": [],
   "source": []
  },
  {
   "cell_type": "code",
   "execution_count": null,
   "metadata": {},
   "outputs": [],
   "source": [
    "Ux, Sx, Vx = np.linalg.svd(X, full_matrices=True)\n"
   ]
  },
  {
   "cell_type": "code",
   "execution_count": null,
   "metadata": {},
   "outputs": [],
   "source": [
    "reconstructed = np.dot(U[:, :1536], Vh)\n",
    "reconstructedbinary = np.dot(Ub[:, :1536], Vhb)\n",
    "reconstructedternary = np.dot(Ut[:, :1536], Vht)\n",
    "reconstructedscalar = np.dot(Us[:, :1536], Vhs)\n"
   ]
  },
  {
   "cell_type": "code",
   "execution_count": null,
   "metadata": {},
   "outputs": [],
   "source": [
    "np.linalg.norm(X - reconstructedbinary, ord = \"fro\"), np.linalg.norm(X - reconstructedternary, ord = \"fro\"),  np.linalg.norm(X - reconstructedscalar, ord = \"fro\"), np.linalg.norm(X- reconstructed, ord = \"fro\")"
   ]
  }
 ],
 "metadata": {
  "kernelspec": {
   "display_name": "base",
   "language": "python",
   "name": "python3"
  },
  "language_info": {
   "codemirror_mode": {
    "name": "ipython",
    "version": 3
   },
   "file_extension": ".py",
   "mimetype": "text/x-python",
   "name": "python",
   "nbconvert_exporter": "python",
   "pygments_lexer": "ipython3",
   "version": "3.11.5"
  },
  "orig_nbformat": 4
 },
 "nbformat": 4,
 "nbformat_minor": 2
}
