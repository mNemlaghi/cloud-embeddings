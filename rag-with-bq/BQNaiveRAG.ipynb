{
  "cells": [
    {
      "attachments": {},
      "cell_type": "markdown",
      "metadata": {
        "id": "zsfxY0xLz-n8"
      },
      "source": [
        "# Simple Naive RAG within BigQuery"
      ]
    },
    {
      "attachments": {},
      "cell_type": "markdown",
      "metadata": {
        "id": "SxrJDvHQTb71"
      },
      "source": [
        "## Configurations"
      ]
    },
    {
      "cell_type": "code",
      "execution_count": null,
      "metadata": {
        "id": "0zXvlcjgrH4-"
      },
      "outputs": [],
      "source": [
        "project_id = \"<YOUR PROJECT ID here>\""
      ]
    },
    {
      "cell_type": "code",
      "execution_count": null,
      "metadata": {
        "id": "SJQ884Weos48"
      },
      "outputs": [],
      "source": [
        "project_number = !(gcloud projects describe $project_id --format=\"value(projectNumber)\")\n",
        "project_number=project_number[0]"
      ]
    },
    {
      "cell_type": "code",
      "execution_count": null,
      "metadata": {
        "id": "sjtpGo6arbAJ"
      },
      "outputs": [],
      "source": [
        "project_number"
      ]
    },
    {
      "cell_type": "code",
      "execution_count": null,
      "metadata": {
        "id": "D-isOv-UTXS5"
      },
      "outputs": [],
      "source": [
        "!pip install -q datasets"
      ]
    },
    {
      "cell_type": "code",
      "execution_count": null,
      "metadata": {
        "id": "UulWvE0cyb8Z"
      },
      "outputs": [],
      "source": [
        "# @title Linking BigQuery to Pandas with _BigFrames_\n",
        "\n",
        "import bigframes.pandas as bf\n",
        "\n",
        "bf.options.bigquery.location = \"us\" #this variable is set based on the dataset you chose to query\n",
        "bf.options.bigquery.project = project_id"
      ]
    },
    {
      "cell_type": "code",
      "execution_count": null,
      "metadata": {
        "id": "gZl_SKpcVWZn"
      },
      "outputs": [],
      "source": [
        "from datasets import load_dataset"
      ]
    },
    {
      "attachments": {},
      "cell_type": "markdown",
      "metadata": {
        "id": "OzNIGuH5myfj"
      },
      "source": [
        "## Creating a corpus"
      ]
    },
    {
      "cell_type": "code",
      "execution_count": null,
      "metadata": {
        "id": "2a_bqcvamxXX"
      },
      "outputs": [],
      "source": []
    },
    {
      "cell_type": "code",
      "execution_count": null,
      "metadata": {
        "id": "_DYmhWnmLjs5"
      },
      "outputs": [],
      "source": [
        "rag_corpus_sample = load_dataset(\"rag-datasets/mini_wikipedia\", \"text-corpus\", split = \"passages[:10%]\")"
      ]
    },
    {
      "cell_type": "code",
      "execution_count": null,
      "metadata": {
        "id": "07AowTcDUjWw"
      },
      "outputs": [],
      "source": [
        "corpus_df = rag_corpus_sample.to_pandas()"
      ]
    },
    {
      "cell_type": "code",
      "execution_count": null,
      "metadata": {
        "id": "Gikp9gc9i1oI"
      },
      "outputs": [],
      "source": [
        "\n",
        "corpus_df.head()"
      ]
    },
    {
      "cell_type": "code",
      "execution_count": null,
      "metadata": {
        "id": "7cBrvTn-aLE0"
      },
      "outputs": [],
      "source": [
        "\n",
        "from bigframes.ml.llm import PaLM2TextEmbeddingGenerator\n",
        "model = PaLM2TextEmbeddingGenerator()\n",
        "\n",
        "\n",
        "def embed_column_from_df(df, column):\n",
        "    df1 = df.rename(columns = {column:'content'})[['content']]\n",
        "    bf1 = bf.DataFrame(df1.to_dict(orient='records'))\n",
        "    return model.predict(bf1)"
      ]
    },
    {
      "cell_type": "code",
      "execution_count": null,
      "metadata": {
        "id": "P7PNseRUgfUX"
      },
      "outputs": [],
      "source": [
        "corpus_embeddings = embed_column_from_df(corpus_df, \"passage\")\n"
      ]
    },
    {
      "cell_type": "code",
      "execution_count": null,
      "metadata": {
        "id": "9fTLujbihLjN"
      },
      "outputs": [],
      "source": [
        "corpus_embeddings[[\"text_embedding\", \"content\"]]"
      ]
    },
    {
      "cell_type": "code",
      "execution_count": null,
      "metadata": {
        "id": "Q8cx_ZHqo4Hh"
      },
      "outputs": [],
      "source": [
        "corpus_embeddings.to_gbq(destination_table=\"cloud_embeddings.corpus\", if_exists=\"replace\")"
      ]
    },
    {
      "attachments": {},
      "cell_type": "markdown",
      "metadata": {
        "id": "0bA58UJrm8QS"
      },
      "source": [
        "### Create a remote connection"
      ]
    },
    {
      "cell_type": "code",
      "execution_count": null,
      "metadata": {
        "id": "msgjdK4FT0QZ"
      },
      "outputs": [],
      "source": [
        "connection_id = \"demo_rag\"\n",
        "full_connection_id = f\"{project_id}.us.{connection_id}\"\n",
        "\n",
        "full_connection_id"
      ]
    },
    {
      "cell_type": "code",
      "execution_count": null,
      "metadata": {
        "id": "VFiy8_PanGIC"
      },
      "outputs": [],
      "source": [
        "!bq mk --connection --location=us --project_id=$project_id --connection_type=CLOUD_RESOURCE $connection_id"
      ]
    },
    {
      "cell_type": "code",
      "execution_count": null,
      "metadata": {
        "id": "mh74PNYoa8H9"
      },
      "outputs": [],
      "source": [
        "!bq ls --connection --project_id=$project_id --location=us"
      ]
    },
    {
      "cell_type": "code",
      "execution_count": null,
      "metadata": {
        "id": "3eHiDvU6ncxV"
      },
      "outputs": [],
      "source": [
        "!bq --format=json --location us show --connection $connection_id"
      ]
    },
    {
      "cell_type": "code",
      "execution_count": null,
      "metadata": {
        "id": "SaQ2LwTVoW4n"
      },
      "outputs": [],
      "source": [
        "connectionConfig[0]\n"
      ]
    },
    {
      "cell_type": "code",
      "execution_count": null,
      "metadata": {
        "id": "CyN6EDuxoK3u"
      },
      "outputs": [],
      "source": [
        "import json\n",
        "connectionConfig=!bq --format=json --location us show --connection $connection_id\n",
        "print(connectionConfig)\n",
        "service_account_id = json.loads(connectionConfig[0])['cloudResource']['serviceAccountId']\n",
        "service_account_id"
      ]
    },
    {
      "cell_type": "code",
      "execution_count": null,
      "metadata": {
        "id": "E8muDRQubhRZ"
      },
      "outputs": [],
      "source": [
        "member=f'serviceAccount:{service_account_id}'\n",
        "member"
      ]
    },
    {
      "attachments": {},
      "cell_type": "markdown",
      "metadata": {
        "id": "hsw1Q1C3nFWk"
      },
      "source": [
        "### Authorize remote connection to use models\n",
        "\n"
      ]
    },
    {
      "cell_type": "code",
      "execution_count": null,
      "metadata": {
        "id": "k3PaqFP5blq2"
      },
      "outputs": [],
      "source": [
        "!gcloud projects add-iam-policy-binding $project_number --member=$member --role='roles/aiplatform.user' --condition=None"
      ]
    },
    {
      "cell_type": "code",
      "execution_count": null,
      "metadata": {
        "id": "xoCYsx52cbcp"
      },
      "outputs": [],
      "source": [
        "embedding_name = \"mygecko\"\n",
        "dataset = \"cloud_embeddings\"\n",
        "full_embedding_name = f\"{project_id}.{dataset}.{embedding_name}\"\n",
        "full_embedding_name"
      ]
    },
    {
      "cell_type": "code",
      "execution_count": null,
      "metadata": {
        "id": "4z7jVHf3dqCz"
      },
      "outputs": [],
      "source": [
        "full_connection_id"
      ]
    },
    {
      "cell_type": "code",
      "execution_count": null,
      "metadata": {
        "id": "DafCWYTOpD0r"
      },
      "outputs": [],
      "source": [
        "%%bigquery --params $params\n",
        "\n",
        "CREATE MODEL `EMBEDDING_FULL_NAME`\n",
        "REMOTE WITH CONNECTION `YOUR_REMOTE_CONNECTION`\n",
        "OPTIONS(ENDPOINT = \"textembedding-gecko@003\");"
      ]
    },
    {
      "cell_type": "code",
      "execution_count": null,
      "metadata": {
        "id": "TJfy8wfAgrDj"
      },
      "outputs": [],
      "source": [
        "### Retriever"
      ]
    },
    {
      "cell_type": "code",
      "execution_count": null,
      "metadata": {
        "id": "dRKz9N3XyDfo"
      },
      "outputs": [],
      "source": [
        "\n",
        "%%bigquery results\n",
        "\n",
        "WITH query_embedding AS (\n",
        "  SELECT\n",
        "    *\n",
        "  FROM\n",
        "    ML.GENERATE_TEXT_EMBEDDING(MODEL cloud_embeddings.mygecko,\n",
        "    (\n",
        "    SELECT\n",
        "      \"What is the capital of Uruguay?\" AS content))\n",
        ")\n",
        "SELECT\n",
        "  c.content AS candidate_text,\n",
        "FROM\n",
        "  query_embedding AS q,\n",
        "  cloud_embeddings.corpus AS c\n",
        "ORDER BY\n",
        "    ML.DISTANCE(q.text_embedding, c.text_embedding, 'COSINE')\n",
        " ASC\n",
        "LIMIT 20;"
      ]
    },
    {
      "cell_type": "code",
      "execution_count": null,
      "metadata": {
        "id": "dzGhnrD7yPxC"
      },
      "outputs": [],
      "source": [
        "results"
      ]
    },
    {
      "attachments": {},
      "cell_type": "markdown",
      "metadata": {
        "id": "HIYcMID6gste"
      },
      "source": [
        "### Retriever part"
      ]
    },
    {
      "cell_type": "code",
      "execution_count": null,
      "metadata": {
        "id": "qbYbARoYqtW9"
      },
      "outputs": [],
      "source": [
        "%%bigquery results\n",
        "\n",
        "WITH query_embedding AS (\n",
        "  SELECT\n",
        "    *\n",
        "  FROM\n",
        "    ML.GENERATE_TEXT_EMBEDDING(MODEL cloud_embeddings.mygecko,\n",
        "    (\n",
        "    SELECT\n",
        "      \"What is the capital of Uruguay?\" AS content))\n",
        ")\n",
        "SELECT\n",
        "  q.content AS query_text,\n",
        "  c.content AS candidate_text,\n",
        "  ML.DISTANCE(q.text_embedding, c.text_embedding, 'COSINE') AS distance\n",
        "FROM\n",
        "  query_embedding AS q,\n",
        "  cloud_embeddings.corpus AS c\n",
        "ORDER BY\n",
        "  distance ASC\n",
        "LIMIT 20;"
      ]
    },
    {
      "cell_type": "code",
      "execution_count": null,
      "metadata": {
        "id": "LBQ1CdU0hEF8"
      },
      "outputs": [],
      "source": []
    },
    {
      "cell_type": "code",
      "execution_count": null,
      "metadata": {
        "id": "q9iDdmVsg7Tf"
      },
      "outputs": [],
      "source": [
        "results"
      ]
    },
    {
      "attachments": {},
      "cell_type": "markdown",
      "metadata": {
        "id": "nM8udjJrhFZr"
      },
      "source": [
        "### Generator part"
      ]
    },
    {
      "cell_type": "code",
      "execution_count": null,
      "metadata": {
        "id": "akLjjveF4MIB"
      },
      "outputs": [],
      "source": [
        "%%bigquery\n",
        "\n",
        "\n",
        "CREATE MODEL `YOUR_GENERATOR_NALME`\n",
        "REMOTE WITH CONNECTION `CONNECTION_ID`\n",
        "OPTIONS(ENDPOINT=\"gemini-pro\");"
      ]
    },
    {
      "cell_type": "code",
      "execution_count": null,
      "metadata": {
        "id": "qP1-yRgs5Q6H"
      },
      "outputs": [],
      "source": [
        "%%bigquery\n",
        "\n",
        "WITH initial_query as\n",
        "\n",
        "(SELECT \"What is the capital of Tunisia?\" as content)\n",
        "\n",
        "\n",
        ", query_embedding AS (\n",
        "  SELECT\n",
        "    *\n",
        "  FROM\n",
        "    ML.GENERATE_TEXT_EMBEDDING(MODEL cloud_embeddings.mygecko,(SELECT content from initial_query))),\n",
        "\n",
        "ranked_docs as\n",
        "(SELECT\n",
        "  q.content AS query_text,\n",
        "  c.content AS candidate_text,\n",
        "  ML.DISTANCE(q.text_embedding, c.text_embedding, 'COSINE') AS distance\n",
        "FROM\n",
        "  query_embedding AS q,\n",
        "  cloud_embeddings.corpus AS c\n",
        "ORDER BY\n",
        "  distance ASC\n",
        "LIMIT 10),\n",
        "\n",
        "curated_docs as\n",
        "(select string_agg(candidate_text) as documents from ranked_docs),\n",
        "\n",
        "final_prompt as\n",
        "\n",
        "(select concat(\"Answer concisely to the following question <question>:\\n\",\n",
        "        content, \"</question>\",\n",
        "        \"\\n only and only with the help of the following documents: <documents>\", curated_docs.documents, \"<documents>\",\n",
        "        \"Don't try to make up an answer if it is not shown in the provided documents\") as prompt from curated_docs, initial_query)\n",
        "\n",
        "\n",
        "SELECT\n",
        "  ml_generate_text_result['predictions'][0]['content'] AS generated_text\n",
        "  --,ml_generate_text_result['predictions'][0]['safetyAttributes']\n",
        " --   AS safety_attributes,\n",
        "  --* EXCEPT (ml_generate_text_result)\n",
        "\n",
        " from ML.GENERATE_TEXT(MODEL `cloud_embeddings.mygemini`, (select prompt from final_prompt), STRUCT( 0.1 as temperature, 500 as max_output_tokens) )\n"
      ]
    },
    {
      "cell_type": "code",
      "execution_count": null,
      "metadata": {
        "id": "Kgv1PpSU5sLK"
      },
      "outputs": [],
      "source": []
    }
  ],
  "metadata": {
    "colab": {
      "cell_execution_strategy": "setup",
      "name": "BqEmbeddings",
      "provenance": []
    },
    "kernelspec": {
      "display_name": "Python 3",
      "name": "python3"
    },
    "language_info": {
      "name": "python"
    }
  },
  "nbformat": 4,
  "nbformat_minor": 0
}
